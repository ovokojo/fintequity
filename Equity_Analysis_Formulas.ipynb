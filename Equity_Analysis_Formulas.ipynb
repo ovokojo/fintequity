{
  "nbformat": 4,
  "nbformat_minor": 0,
  "metadata": {
    "colab": {
      "provenance": [],
      "authorship_tag": "ABX9TyOFq4wLIlLeJpykdgdPQeHI",
      "include_colab_link": true
    },
    "kernelspec": {
      "name": "python3",
      "display_name": "Python 3"
    },
    "language_info": {
      "name": "python"
    }
  },
  "cells": [
    {
      "cell_type": "markdown",
      "metadata": {
        "id": "view-in-github",
        "colab_type": "text"
      },
      "source": [
        "<a href=\"https://colab.research.google.com/github/ovokojo/fintequity/blob/main/Equity_Analysis_Formulas.ipynb\" target=\"_parent\"><img src=\"https://colab.research.google.com/assets/colab-badge.svg\" alt=\"Open In Colab\"/></a>"
      ]
    },
    {
      "cell_type": "markdown",
      "source": [
        "\n"
      ],
      "metadata": {
        "id": "1AEE8GRC9FnS"
      }
    },
    {
      "cell_type": "code",
      "source": [
        "# pip install numpy pandas yfinance"
      ],
      "metadata": {
        "id": "26TFKzq6-qmM"
      },
      "execution_count": 13,
      "outputs": []
    },
    {
      "cell_type": "markdown",
      "source": [
        "# Beta (β)\n",
        "\n",
        "Beta (β) is a measure of the volatility—or systematic risk—of an individual stock in comparison to the overall market. It is a key component in the Capital Asset Pricing Model (CAPM), which is used to calculate the expected return on an asset given its risk relative to the market.\n",
        "\n",
        "*   Beta = 1: stock has volatility that matches the overall market.\n",
        "*   Beta < 1: stock is less volatile than the market\n",
        "*   Beta > 1: stock is more volatile than the market\n",
        "\n",
        "\n",
        "$$ \\beta = \\frac{Cov(r_x, r_m)}{Var(r_m)} $$\n",
        "\n",
        "\n",
        "$$ \\beta = Beta $$\n",
        "$$ Cov(r_x, r_m) = Covariance\\ between\\ the\\ stock\\ and\\ market $$\n",
        "$$ Var(r_m) = Variance\\ of\\ the\\ market's\\ returns $$"
      ],
      "metadata": {
        "id": "4uN8lNZwAt3r"
      }
    },
    {
      "cell_type": "code",
      "source": [
        "import numpy as np\n",
        "import yfinance as yf\n",
        "import pandas as pd\n",
        "\n",
        "def calculate_beta(stock_symbol, market_index_symbol, start_date, end_date):\n",
        "    \"\"\"\n",
        "    Calculate the beta of a stock.\n",
        "\n",
        "    Parameters:\n",
        "    - stock_symbol: Symbol for the stock (e.g., 'AAPL' for Apple Inc.)\n",
        "    - market_index_symbol: Symbol for the market index (e.g., '^GSPC' for S&P 500)\n",
        "    - start_date: Start date for the data (format: 'YYYY-MM-DD')\n",
        "    - end_date: End date for the data (format: 'YYYY-MM-DD')\n",
        "\n",
        "    Returns:\n",
        "    - Beta value for the stock\n",
        "    \"\"\"\n",
        "    # Fetch historical data\n",
        "    stock_data = yf.download(stock_symbol, start=start_date, end=end_date)['Adj Close']\n",
        "    market_data = yf.download(market_index_symbol, start=start_date, end=end_date)['Adj Close']\n",
        "    # Calculate returns\n",
        "    stock_returns = stock_data.pct_change().dropna()\n",
        "    market_returns = market_data.pct_change().dropna()\n",
        "\n",
        "    # Calculate covariance and variance\n",
        "    covariance = np.cov(stock_returns, market_returns)[0][1]\n",
        "    market_variance = np.var(market_returns)\n",
        "\n",
        "    # Calculate beta\n",
        "    beta = covariance / market_variance\n",
        "    return beta\n"
      ],
      "metadata": {
        "id": "KCjM05TM-1my"
      },
      "execution_count": 14,
      "outputs": []
    },
    {
      "cell_type": "markdown",
      "source": [
        "# Capital Asset Pricing Model (CAPM)\n",
        "\n",
        "The Capital Asset Pricing Model (CAPM) is a model that describes the relationship between systematic risk and expected return for assets, particularly stocks.\n",
        "\n",
        "$$ E(r_i) = r_f + \\beta_i (E(r_m) - r_f) $$\n",
        "\n",
        "- Where:\n",
        "\n",
        "$$ E(r_i) = Expected\\ return\\ on\\ the\\ investment$$\n",
        "$$ r_f  = Risk-free\\ rate$$\n",
        "$$ \\beta_i = Beta\\ of\\ the\\ investment$$\n",
        "$$ E(r_m) = Expected\\ return\\ of\\ the\\ market$$\n",
        "$$ E(r_m) - r_f = Market\\ risk\\ premium$$"
      ],
      "metadata": {
        "id": "5mBImn1hDmZo"
      }
    },
    {
      "cell_type": "code",
      "source": [
        "def calculate_capm_expected_return(beta, risk_free_rate, market_return):\n",
        "    \"\"\"\n",
        "    Calculate the expected return of a stock using the CAPM formula.\n",
        "\n",
        "    Parameters:\n",
        "    - beta: Beta of the stock\n",
        "    - risk_free_rate: Risk-free rate (as a decimal)\n",
        "    - market_return: Expected market return (as a decimal)\n",
        "\n",
        "    Returns:\n",
        "    - Expected return of the stock (as a decimal)\n",
        "    \"\"\"\n",
        "    return risk_free_rate + beta * (market_return - risk_free_rate)\n"
      ],
      "metadata": {
        "id": "eUn8dl1d_CBd"
      },
      "execution_count": 15,
      "outputs": []
    },
    {
      "cell_type": "markdown",
      "source": [],
      "metadata": {
        "id": "hcq537Uk89yE"
      }
    },
    {
      "cell_type": "code",
      "source": [
        "# Example symbols and data\n",
        "stock_symbol = 'AAPL'\n",
        "market_index_symbol = '^GSPC'  # S&P 500\n",
        "start_date = '2023-01-01'\n",
        "end_date = '2024-01-01'\n",
        "risk_free_rate = 0.0425  # 4.25% annual rate\n",
        "market_return = 0.10  # 10% expected market return\n",
        "\n",
        "# Calculate beta\n",
        "beta = calculate_beta(stock_symbol, market_index_symbol, start_date, end_date)\n",
        "\n",
        "# Calculate expected return using CAPM\n",
        "expected_return = calculate_capm_expected_return(beta, risk_free_rate, market_return)\n",
        "\n",
        "print(f\"{stock_symbol} Beta: {beta}\")\n",
        "print(f\"{stock_symbol} Expected Return: {expected_return * 100:.2f}%\")\n"
      ],
      "metadata": {
        "colab": {
          "base_uri": "https://localhost:8080/"
        },
        "id": "R9xqF5Z2_iHG",
        "outputId": "f6e107f8-ec7f-46bb-dd92-4f312e3d38c5"
      },
      "execution_count": 16,
      "outputs": [
        {
          "output_type": "stream",
          "name": "stderr",
          "text": [
            "[*********************100%%**********************]  1 of 1 completed\n",
            "[*********************100%%**********************]  1 of 1 completed"
          ]
        },
        {
          "output_type": "stream",
          "name": "stdout",
          "text": [
            "AAPL Beta: 1.1089666251657657\n",
            "AAPL Expected Return: 10.63%\n"
          ]
        },
        {
          "output_type": "stream",
          "name": "stderr",
          "text": [
            "\n"
          ]
        }
      ]
    }
  ]
}