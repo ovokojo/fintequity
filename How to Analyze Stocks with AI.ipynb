{
  "nbformat": 4,
  "nbformat_minor": 0,
  "metadata": {
    "colab": {
      "provenance": [],
      "authorship_tag": "ABX9TyOLsCMP2L/bQynOMNegVVYa",
      "include_colab_link": true
    },
    "kernelspec": {
      "name": "python3",
      "display_name": "Python 3"
    },
    "language_info": {
      "name": "python"
    }
  },
  "cells": [
    {
      "cell_type": "markdown",
      "metadata": {
        "id": "view-in-github",
        "colab_type": "text"
      },
      "source": [
        "<a href=\"https://colab.research.google.com/github/ovokojo/fintequity/blob/main/How%20to%20Analyze%20Stocks%20with%20AI.ipynb\" target=\"_parent\"><img src=\"https://colab.research.google.com/assets/colab-badge.svg\" alt=\"Open In Colab\"/></a>"
      ]
    },
    {
      "cell_type": "markdown",
      "source": [
        "# README\n",
        "This notebook aims to explore possibilities of AI in investment analysis. It uses various APIs to pull data and perform analyses. To ensure a smooth experience, please follow the setup instructions below.\n",
        "\n",
        "**Pre-requisites**\n",
        "\n",
        "Before running this notebook, you will need access to the following APIs:\n",
        "\n",
        "\n",
        "*   **SEC-API** for accessing financial statements and other disclosures from the U.S. Securities and Exchange Commission. Get a free API key at: https://sec-api.io/\n",
        "\n",
        "*   **OpenAI API** for utilizing advanced AI models for data analysis, summaries, and more. Get an API key at: https://platform.openai.com/\n",
        "\n",
        "\n",
        "\n",
        "**Getting Started**\n",
        "\n",
        "Configure API Keys: Store your SEC-API and OpenAI API keys in a secure location. This notebook uses Colab Secrets.\n",
        "\n",
        "Run the notebook: Execute the cells in order, making sure to input your API keys or modify the code as neccessary to access them.\n",
        "\n"
      ],
      "metadata": {
        "id": "oNDFhlWgskxD"
      }
    },
    {
      "cell_type": "code",
      "source": [
        "!pip install -q sec-api\n",
        "!pip install openai\n",
        "\n",
        "from google.colab import userdata\n",
        "import openai\n",
        "from openai import OpenAI\n",
        "import requests\n",
        "\n",
        "client = OpenAI(\n",
        "    api_key=userdata.get(\"OAI_KEY\"),\n",
        ")\n",
        "SEC_KEY = userdata.get(\"SEC_KEY\")"
      ],
      "metadata": {
        "id": "8SQR9WcrmrxY"
      },
      "execution_count": 23,
      "outputs": []
    },
    {
      "cell_type": "code",
      "source": [
        "from enum import Enum\n",
        "\n",
        "# Supported 10-K Section Items\n",
        "class SectionFrom10K(Enum):\n",
        "    BUSINESS = \"1\"\n",
        "    RISK_FACTORS = \"1A\"\n",
        "    UNRESOLVED_STAFF_COMMENTS = \"1B\"\n",
        "    PROPERTIES = \"2\"\n",
        "    LEGAL_PROCEEDINGS = \"3\"\n",
        "    MINE_SAFETY_DISCLOSURES = \"4\"\n",
        "    MARKET_FOR_REGISTRANT_COMMON_EQUITY = \"5\"\n",
        "    SELECTED_FINANCIAL_DATA = \"6\"\n",
        "    MANAGEMENT_DISCUSSION = \"7\"\n",
        "    QUANTITATIVE_AND_QUALITATIVE_DISCLOSURES = \"7A\"\n",
        "    FINANCIAL_STATEMENTS = \"8\"\n",
        "    CHANGES_IN_DISAGREEMENTS = \"9\"\n",
        "    CONTROLS_AND_PROCEDURES = \"9A\"\n",
        "    OTHER_INFORMATION = \"9B\"\n",
        "    DIRECTORS_EXECUTIVE_OFFICERS = \"10\"\n",
        "    EXECUTIVE_COMPENSATION = \"11\"\n",
        "    SECURITY_OWNERSHIP = \"12\"\n",
        "    CERTAIN_RELATIONSHIPS = \"13\"\n",
        "    PRINCIPAL_ACCOUNTANT_FEES = \"14\"\n",
        "    EXHIBITS_AND_FINANCIAL_STATEMENT_SCHEDULES = \"15\"\n",
        "\n",
        "    def __str__(self):\n",
        "        return f\"{self.value}\""
      ],
      "metadata": {
        "id": "JJ1BGx8maOqm"
      },
      "execution_count": 39,
      "outputs": []
    },
    {
      "cell_type": "code",
      "source": [
        "# Query API - Search and filter all 18+ million filings and exhibits published on SEC EDGAR since 1993\n",
        "def getLatest10K(ticker: str):\n",
        "    \"\"\"\n",
        "    Retrieves the most recent Form 10-K filing for a given stock ticker symbol.\n",
        "\n",
        "    Args:\n",
        "    - ticker (str): The stock ticker symbol of the company for which the Form 10-K is requested.\n",
        "\n",
        "    Returns:\n",
        "    - dict: A dictionary containing the JSON response with the latest Form 10-K filing\n",
        "            information if the request is successful (HTTP status code 200).\n",
        "    - int: The HTTP status code of the response if the request is unsuccessful.\n",
        "    \"\"\"\n",
        "\n",
        "    endpoint = f\"https://api.sec-api.io?token={SEC_KEY}\"\n",
        "    params = {\n",
        "        \"query\": {\n",
        "          \"query_string\": {\n",
        "            \"query\":  f\"ticker:{ticker} AND formType:\\\"10-K\\\"\"\n",
        "          }\n",
        "        },\n",
        "        \"from\": \"0\",\n",
        "        \"size\": \"1\",\n",
        "        \"sort\": [{ \"filedAt\": { \"order\": \"desc\" }}]\n",
        "    }\n",
        "    response = requests.post(endpoint, json=params)\n",
        "\n",
        "    if response.status_code == 200:\n",
        "        return response.json()\n",
        "    else:\n",
        "        print(response.status_code)\n",
        "        return response.status_code\n",
        "\n",
        "# Example\n",
        "# latest10K = getLatest10K('TSLA')"
      ],
      "metadata": {
        "id": "00BRQmXtnjC_"
      },
      "execution_count": 25,
      "outputs": []
    },
    {
      "cell_type": "code",
      "source": [
        "# Extractor API - Extract any text section from 10-Q, 10-K, and 8-K SEC filings.\n",
        "def getLatest10kSection(ticker: str, section: str):\n",
        "    \"\"\"\n",
        "    Retrieves a specified section from the latest 10-K filing of any stock using the SEC Query API & the extractor API\n",
        "\n",
        "    Args:\n",
        "        ticker (str): The stock ticker symbol of the company for which the Form 10-K is requested.\n",
        "        section (str): Specific section of the filing to retrieve (e.g., \"1A\" for the Risk Factors section).\n",
        "        10-K supported section codes: 1, 1A, 1B, 2, 3, 4, 5, 6, 7, 7A, 8, 9, 9A, 9B, 10, 11, 12, 13, 14, 15\n",
        "\n",
        "    Returns:\n",
        "        text or int: The extracted content in JSON format if request is successful; otherwise, the HTTP status code.\n",
        "    \"\"\"\n",
        "\n",
        "    latest10K = getLatest10K(ticker)\n",
        "    url_10k = latest10K['filings'][0]['linkToFilingDetails']\n",
        "\n",
        "    endpoint = \"https://api.sec-api.io/extractor\"\n",
        "\n",
        "    params = {\n",
        "        \"token\": SEC_KEY,\n",
        "        \"url\": url_10k,\n",
        "        \"item\": section,\n",
        "        \"type\": \"text\"\n",
        "    }\n",
        "\n",
        "    response = requests.get(endpoint, params=params)\n",
        "\n",
        "    if response.status_code == 200:\n",
        "        return response.text\n",
        "    else:\n",
        "        print(f\"Request failed with code: {response.status_code}\")\n",
        "        return response.status_code\n",
        "\n",
        "# Example\n",
        "# getLatest10kSection(\"TSLA\", \"1\")"
      ],
      "metadata": {
        "id": "Bu2bpYcZrhPm"
      },
      "execution_count": 26,
      "outputs": []
    },
    {
      "cell_type": "code",
      "source": [
        "# Next steps: analyze & summarize section with AI\n",
        "def askAssistant(ticker: str, section: SectionFrom10K, prompt: str):\n",
        "  data = getLatest10kSection(ticker, section)\n",
        "  chat_completion = client.chat.completions.create(\n",
        "      messages=[\n",
        "          {\n",
        "              \"role\": \"user\",\n",
        "              \"content\": f\"{prompt}. Use {section.value} of {ticker} 10-K here: {data}\",\n",
        "          }\n",
        "      ],\n",
        "      model=\"gpt-3.5-turbo\",\n",
        "  )\n",
        "  response = chat_completion.choices[0].message.content\n",
        "  print(response)\n",
        "\n",
        "# Example\n",
        "askAssistant(\"COCO\", SectionFrom10K.BUSINESS, \"Give me a summary of the business\")"
      ],
      "metadata": {
        "id": "At2d8awdhI0T",
        "colab": {
          "base_uri": "https://localhost:8080/"
        },
        "outputId": "ca23ca9d-86c6-4f0b-eeb4-674cd42886dc"
      },
      "execution_count": 47,
      "outputs": [
        {
          "output_type": "stream",
          "name": "stdout",
          "text": [
            "The Vita Coco Company is a leading platform for brands in the functional beverage category. They offer a range of products including packaged coconut water, coconut oil, juice, milk, and protein-infused fitness drinks. The company operates globally, with primary markets in North America, the United Kingdom, and China. They also supply private label products to retailers and generate revenue from bulk sales to beverage and food companies. Vita Coco is committed to delivering natural, nutritious products that are better for consumers and the world, with a focus on sustainability and ethical values. They operate as a public benefit corporation, balancing profit and purpose to meet high standards of social and environmental performance. The company also supports coconut farming communities through charitable initiatives and partnerships. With a diverse workforce and a focus on diversity, equity, and inclusion, The Vita Coco Company places a strong emphasis on their employees and their community.\n"
          ]
        }
      ]
    },
    {
      "cell_type": "code",
      "source": [
        "# Example use case: get executive summaries of multiple companies.\n",
        "tickers = [\"ABNB\",\"EXPE\",\"BKNG\"]\n",
        "\n",
        "summaries = []\n",
        "\n",
        "for ticker in tickers:\n",
        "  askAssistant(ticker, \"1\", \"Give me a brief summary of the business model\")\n",
        "  print(\"\\n\")"
      ],
      "metadata": {
        "colab": {
          "base_uri": "https://localhost:8080/"
        },
        "id": "nKicUg52BNs1",
        "outputId": "ffafeae8-ff81-41c1-d704-2945b565280a"
      },
      "execution_count": 32,
      "outputs": [
        {
          "output_type": "stream",
          "name": "stdout",
          "text": [
            "Airbnb is a community-based platform focused on connection and belonging. The business model revolves around connecting hosts who offer unique stays and experiences with guests looking for more authentic and immersive travel experiences. The platform serves five stakeholders: employees, shareholders, hosts, guests, and the communities in which they live. The company's long-term growth strategy includes making hosting mainstream, growing and engaging the guest community, perfecting the core service, and expanding the global network. The platform is supported by technology that enables seamless onboarding for hosts, engaging booking experiences for guests, and a robust system of trust and safety features. Airbnb also focuses on human capital management, sustainability efforts, and compliance with regulations and laws in various jurisdictions. The company faces competition from other online travel agencies, listing and meta search websites, hotel chains, property management companies, and platforms offering experiences. Intellectual property protection is a key component of Airbnb's business strategy, and the company provides information and updates through its website and investor relations platforms.\n",
            "\n",
            "\n",
            "Expedia Group, Inc. is an online travel company with a mission to power global travel for everyone, everywhere. They operate a portfolio of consumer brands, providing solutions for travelers to research, plan, book, and experience travel. They offer over 3 million lodging properties, including hotels, alternative accommodations, airlines, packages, rental cars, cruises, insurance, and activities. Expedia Group operates on a platform model, streamlining operations and focusing on customer loyalty and app adoption. They generate revenue through the merchant model, agency model, and advertising model. The company faces competition in the rapidly evolving and intensely competitive travel market. Expedia Group is committed to creating inclusive and diverse workplaces, focusing on employee well-being, development, and diversity initiatives. Mr. Diller, the largest shareholder, can influence corporate actions. The company complies with regulations in the travel industry, internet business, and data protection laws.\n",
            "\n",
            "\n",
            "Booking Holdings' business model is based on providing online travel reservation services, advertising services, and other related services to connect travel service providers with travelers. The company has five primary consumer-facing brands: Booking.com, Priceline, Agoda, KAYAK, and OpenTable. They generate revenues through merchant revenues, agency revenues, and advertising and other revenues. The company focuses on providing consumers with personalized and easy-to-use online travel services, offering comprehensive choices and value, and partnering with travel service providers and restaurants for mutual benefit. They operate multiple brands to cater to different markets and geographies, invest in profitable and sustainable growth, and leverage technology to enhance the customer experience. Booking Holdings also places a strong emphasis on human capital resources, diversity, equity, and inclusion, and employee engagement.\n",
            "\n",
            "\n"
          ]
        }
      ]
    }
  ]
}