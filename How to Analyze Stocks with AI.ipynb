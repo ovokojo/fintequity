{
  "nbformat": 4,
  "nbformat_minor": 0,
  "metadata": {
    "colab": {
      "provenance": [],
      "authorship_tag": "ABX9TyMFohPjxzMEpUpjpwiSnI1J",
      "include_colab_link": true
    },
    "kernelspec": {
      "name": "python3",
      "display_name": "Python 3"
    },
    "language_info": {
      "name": "python"
    }
  },
  "cells": [
    {
      "cell_type": "markdown",
      "metadata": {
        "id": "view-in-github",
        "colab_type": "text"
      },
      "source": [
        "<a href=\"https://colab.research.google.com/github/ovokojo/fintequity/blob/main/How%20to%20Analyze%20Stocks%20with%20AI.ipynb\" target=\"_parent\"><img src=\"https://colab.research.google.com/assets/colab-badge.svg\" alt=\"Open In Colab\"/></a>"
      ]
    },
    {
      "cell_type": "markdown",
      "source": [
        "# README\n",
        "This notebook aims to explore possibilities of AI in investment analysis. It uses various APIs to pull data and perform analyses. To ensure a smooth experience, please follow the setup instructions below.\n",
        "\n",
        "**Pre-requisites**\n",
        "\n",
        "Before running this notebook, you will need access to the following APIs:\n",
        "\n",
        "\n",
        "*   **SEC-API** for accessing financial statements and other disclosures from the U.S. Securities and Exchange Commission. Get a free API key at: https://sec-api.io/\n",
        "\n",
        "*   **OpenAI API** for utilizing advanced AI models for data analysis, summaries, and more. Get an API key at: https://platform.openai.com/\n",
        "\n",
        "\n",
        "\n",
        "**Getting Started**\n",
        "\n",
        "Configure API Keys: Store your SEC-API and OpenAI API keys in a secure location. This notebook uses Colab Secrets.\n",
        "\n",
        "Run the notebook: Execute the cells in order, making sure to input your API keys or modify the code as neccessary to access them.\n",
        "\n"
      ],
      "metadata": {
        "id": "oNDFhlWgskxD"
      }
    },
    {
      "cell_type": "code",
      "source": [
        "!pip install -q sec-api\n",
        "!pip install openai\n",
        "\n",
        "from google.colab import userdata\n",
        "import openai\n",
        "from openai import OpenAI\n",
        "import requests\n",
        "\n",
        "client = OpenAI(\n",
        "    api_key=userdata.get(\"OAI_KEY\"),\n",
        ")\n",
        "SEC_KEY = userdata.get(\"SEC_KEY\")"
      ],
      "metadata": {
        "id": "8SQR9WcrmrxY"
      },
      "execution_count": 11,
      "outputs": []
    },
    {
      "cell_type": "code",
      "source": [
        "# Query API - Search and filter all 18+ million filings and exhibits published on SEC EDGAR since 1993\n",
        "def getLatest10K(ticker: str):\n",
        "    \"\"\"\n",
        "    Retrieves the most recent Form 10-K filing for a given stock ticker symbol.\n",
        "\n",
        "    Args:\n",
        "    - ticker (str): The stock ticker symbol of the company for which the Form 10-K is requested.\n",
        "\n",
        "    Returns:\n",
        "    - dict: A dictionary containing the JSON response with the latest Form 10-K filing\n",
        "            information if the request is successful (HTTP status code 200).\n",
        "    - int: The HTTP status code of the response if the request is unsuccessful.\n",
        "    \"\"\"\n",
        "\n",
        "    endpoint = f\"https://api.sec-api.io?token={SEC_KEY}\"\n",
        "    params = {\n",
        "        \"query\": {\n",
        "          \"query_string\": {\n",
        "            \"query\":  f\"ticker:{ticker} AND formType:\\\"10-K\\\"\"\n",
        "          }\n",
        "        },\n",
        "        \"from\": \"0\",\n",
        "        \"size\": \"1\",\n",
        "        \"sort\": [{ \"filedAt\": { \"order\": \"desc\" }}]\n",
        "    }\n",
        "    response = requests.post(endpoint, json=params)\n",
        "\n",
        "    if response.status_code == 200:\n",
        "        return response.json()\n",
        "    else:\n",
        "        print(response.status_code)\n",
        "        return response.status_code\n",
        "\n",
        "# Example\n",
        "# latest10K = getLatest10K('TSLA')"
      ],
      "metadata": {
        "id": "00BRQmXtnjC_"
      },
      "execution_count": 12,
      "outputs": []
    },
    {
      "cell_type": "code",
      "source": [
        "# Extractor API - Extract any text section from 10-Q, 10-K, and 8-K SEC filings.\n",
        "def getLatest10kSection(ticker: str, section: str):\n",
        "    \"\"\"\n",
        "    Retrieves a specified section from the latest 10-K filing of any stock using the SEC Query API & the extractor API\n",
        "\n",
        "    Args:\n",
        "        ticker (str): The stock ticker symbol of the company for which the Form 10-K is requested.\n",
        "        section (str): Specific section of the filing to retrieve (e.g., \"1A\" for the Risk Factors section).\n",
        "        10-K supported section codes: 1, 1A, 1B, 2, 3, 4, 5, 6, 7, 7A, 8, 9, 9A, 9B, 10, 11, 12, 13, 14, 15\n",
        "\n",
        "    Returns:\n",
        "        text or int: The extracted content in JSON format if request is successful; otherwise, the HTTP status code.\n",
        "    \"\"\"\n",
        "\n",
        "    latest10K = getLatest10K(ticker)\n",
        "    url_10k = latest10K['filings'][0]['linkToFilingDetails']\n",
        "\n",
        "    endpoint = \"https://api.sec-api.io/extractor\"\n",
        "\n",
        "    params = {\n",
        "        \"token\": SEC_KEY,\n",
        "        \"url\": url_10k,\n",
        "        \"item\": section,\n",
        "        \"type\": \"text\"\n",
        "    }\n",
        "\n",
        "    response = requests.get(endpoint, params=params)\n",
        "\n",
        "    if response.status_code == 200:\n",
        "        return response.text\n",
        "    else:\n",
        "        print(f\"Request failed with code: {response.status_code}\")\n",
        "        return response.status_code\n",
        "\n",
        "# Example\n",
        "# getLatest10kSection(\"WDAY\", \"1A\")"
      ],
      "metadata": {
        "id": "Bu2bpYcZrhPm"
      },
      "execution_count": 13,
      "outputs": []
    },
    {
      "cell_type": "code",
      "source": [
        "# Next steps: analyze & summarize section with AI\n",
        "def askAssistant(ticker: str, section: str, prompt: str):\n",
        "  data = getLatest10kSection(ticker, section)\n",
        "  chat_completion = client.chat.completions.create(\n",
        "      messages=[\n",
        "          {\n",
        "              \"role\": \"user\",\n",
        "              \"content\": f\"{prompt}. Use {section} of {ticker} 10-K here: {data}\",\n",
        "          }\n",
        "      ],\n",
        "      model=\"gpt-4-turbo-preview\",\n",
        "  )\n",
        "  response = chat_completion.choices[0].message.content\n",
        "  print(response)"
      ],
      "metadata": {
        "id": "At2d8awdhI0T"
      },
      "execution_count": 18,
      "outputs": []
    },
    {
      "cell_type": "code",
      "source": [
        "# Example use case: get executive summaries of multiple companies.\n",
        "tickers = [\"ABNB\",\"UBER\",\"LYFT\"]\n",
        "\n",
        "summaries = []\n",
        "\n",
        "for ticker in tickers:\n",
        "  askAssistant(ticker, \"1\", \"Give me a summary of the business model\")\n",
        "  print(\"\\n\")"
      ],
      "metadata": {
        "id": "nKicUg52BNs1",
        "outputId": "12c708ae-fa1a-4f5f-f307-0d597b25c110",
        "colab": {
          "base_uri": "https://localhost:8080/"
        }
      },
      "execution_count": 20,
      "outputs": [
        {
          "output_type": "stream",
          "name": "stdout",
          "text": [
            "Airbnb operates within a community-based model focused on connection and belonging, originating from 2007 when two hosts in San Francisco welcomed three guests. The platform has since grown to over 5 million hosts globally, with over 1.5 billion guest arrivals. Airbnb caters to five key stakeholders: hosts, guests, employees, shareholders, and communities, aiming for mutual success to nurture its business health.\n",
            "\n",
            "The business model highlights adaptability and innovation as its core strengths, allowing it to offer a wide variety of stay and experience types across almost every global location. Despite varying economic climates, Airbnb has maintained appeal by offering value to guests and income opportunities for hosts. The company emphasizes growth strategies such as mainstreaming hosting, engaging the guest community, perfecting core services, and expanding its global network. Investing in hosting support, product improvements, international markets, and adapting to new travel behaviors are part of its approach to long-term growth.\n",
            "\n",
            "Airbnb's platform is designed for seamless host onboarding and guest booking experiences, supported by a comprehensive trust system including reviews, account protection, and secure payments. Technological innovation underpins the marketplace, with a focus on global payment support, community assistance, business insights, artificial intelligence, and a microservices architecture. \n",
            "\n",
            "Marketing strategies involve brand awareness, communications, and performance marketing, aimed at highlighting the distinct benefits of hosting or booking with Airbnb. The company also values human capital management and diversity, and adopts remote work policies to attract global talent.\n",
            "\n",
            "In terms of environmental responsibility, Airbnb has committed to becoming a net-zero company by 2030, intending to reduce corporate operation emissions and investing in carbon credits.\n",
            "\n",
            "Regulatory compliance is essential for Airbnb, given the varied legal landscapes of short-term rentals and home sharing globally. The company actively works with governments to clarify home sharing rules and manage compliance across multiple legal domains including e-commerce, privacy, and online payments.\n",
            "\n",
            "Seasonality affects Airbnb's business, with peaks in bookings and revenue typically in the first three quarters of the year, aligned with global travel patterns.\n",
            "\n",
            "Airbnb operates in a competitive landscape, contending with online travel agencies, search engines, hotels, property management companies, and other platforms for hosting and guest attraction. To protect and distinguish its business, Airbnb relies on a mix of intellectual property tools, including patents, trademarks, and domain names.\n",
            "\n",
            "For extensive details about Airbnb's operations, financial data, regulatory matters, and more, the company offers access to its reports and filings via its investor relations website and the SEC's online portal.\n",
            "\n",
            "\n",
            "Uber Technologies, Inc. is a global technology platform that optimizes the movement of people, goods, and services from one point to another through its diverse range of offerings, which include ride-sharing, meal, grocery and retail delivery services, and freight logistics. Operating under three main segments—Mobility, Delivery, and Freight—Uber connects various stakeholders including riders, consumers, independent drivers, couriers, merchants, and shippers through its proprietary technology applications.\n",
            "\n",
            "**Mobility:** This segment offers a wide array of transportation services, such as ridesharing, carsharing, and public transit options. Uber's global presence and technology prowess afford consumers and drivers improved experiences and opportunities, respectively.\n",
            "\n",
            "**Delivery:** Uber's delivery services, primarily through the Uber Eats platform, allow consumers to order meals and other items from local merchants for delivery or pickup. This segment has been expanded to include white-label delivery solutions for retailers and restaurants, alongside advertising opportunities.\n",
            "\n",
            "**Freight:** Targeting the freight industry, this segment innovatively connects shippers with carriers, facilitating seamless shipment bookings and logistic management, leveraging Uber's technological and operational expertise.\n",
            "\n",
            "**Platform Synergies:** Uber’s business model is built upon a massive network, advanced technology, operational excellence, and product expertise. The platform's success is driven by its ability to attract new users and deepen engagement with existing ones, evidenced by increased usage across multiple service offerings. Uber's global network, enhanced by real-time data and insights, powers a simplified, intuitive user experience, further bolstered by membership programs like Uber One, which combines perks across rides, delivery, and grocery services.\n",
            "\n",
            "**Competitive Landscape:** Uber operates in highly competitive, fragmented markets against both traditional and digital providers in mobility, delivery, and freight services. It faces challenges from personal vehicle usage, traditional transport services, and a variety of digital competitors across its operating segments.\n",
            "\n",
            "**Regulatory Environment:** The company navigates a complex legal landscape, dealing with diverse regulations across the jurisdictions it operates in. This includes laws related to internet activities, privacy, payments, labor, and transportation services, among others.\n",
            "\n",
            "**Data Privacy and Payments:** Compliance with data protection laws and payment service regulations are fundamental to Uber's operations, which necessitate adherence to evolving legal standards globally.\n",
            "\n",
            "**Intellectual Property and R&D:** Protecting its technological innovations and intellectual property is crucial for Uber to maintain its competitive advantage. The company is committed to ongoing research and development to sustain its technological lead.\n",
            "\n",
            "**Seasonality and Human Capital:** The business experiences seasonal fluctuations in demand across its segments. Attracting and retaining skilled personnel is vital for its continued success, prompting initiatives to enhance employee engagement, development, and retention, as well as advocating for better conditions for its independent drivers and couriers.\n",
            "\n",
            "**Diversity and Inclusion:** Uber prioritizes a diverse and inclusive work environment, recognizing it as key to its corporate identity and success.\n",
            "\n",
            "Uber's extensive operations, encompassing roughly 70 countries and more than 10,000 cities as of December 31, 2023, reflect the company's ambitious goal to refine how the world moves for both people and goods. Despite facing intense competition and regulatory challenges, Uber's innovative platform model continues to explore new opportunities for growth and efficiency enhancements across its broad array of services.\n",
            "\n",
            "\n",
            "Lyft, Inc. is a prominent player in the multimodal transportation network, serving the United States and Canada. Founded in 2012, Lyft has significantly shaped the on-demand ridesharing industry through its peer-to-peer marketplace. The company’s mission centers on enriching people's lives by providing convenient and accessible transportation options, thereby fostering social connections and economic opportunities. Lyft primarily generates revenue through service fees and commissions from drivers using its platform to connect with riders. The Lyft App facilitates various transportation modes, including traditional ridesharing and access to shared bikes and scooters, catering to a wide range of mobility needs.\n",
            "\n",
            "Lyft’s business model hinges on its sophisticated technology infrastructure, which underpins the Lyft Platform and the Lyft App. This technology ensures efficient connections between drivers and riders, optimizing the overall experience by reducing wait times and enhancing ride availability. The company’s growth strategy revolves around expanding its user base, increasing the diversity of transportation modes offered, and continuously innovating to meet evolving transportation needs.\n",
            "\n",
            "Drivers and riders form the core of Lyft's community, with drivers benefiting from flexible work arrangements and riders enjoying a seamless and diversified transportation experience. Lyft underscores the importance of safety, conducting annual background checks on drivers, and implementing features designed to enhance ride security for all users.\n",
            "\n",
            "The company faces stiff competition, notably from Uber, but also from other transportation services and emerging technologies in the autonomous vehicle arena. Despite these challenges, Lyft believes its commitment to innovation, user experience, and social and environmental responsibility differentiates it from competitors.\n",
            "\n",
            "Lyft's commitment to corporate social responsibility is evident in its Lyft Up initiative, aimed at increasing transportation accessibility, and its efforts towards environmental sustainability, particularly its push towards electric vehicles (EVs).\n",
            "\n",
            "Regulatory factors significantly impact Lyft’s operations, with the company navigating complex legal landscapes across various jurisdictions. Additionally, Lyft’s human capital, comprising a diverse workforce, and its intellectual property, are vital assets underpinning the company's market position and future growth prospects.\n",
            "\n",
            "In summary, Lyft's business model capitalizes on a robust technology platform to provide diverse and innovative transportation solutions, aiming to foster a sustainable, connected, and inclusive mobility ecosystem.\n",
            "\n",
            "\n"
          ]
        }
      ]
    }
  ]
}