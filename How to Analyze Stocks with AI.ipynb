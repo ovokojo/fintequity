{
  "nbformat": 4,
  "nbformat_minor": 0,
  "metadata": {
    "colab": {
      "provenance": [],
      "authorship_tag": "ABX9TyN5mdzEEVY5dJxnVlViSPSh",
      "include_colab_link": true
    },
    "kernelspec": {
      "name": "python3",
      "display_name": "Python 3"
    },
    "language_info": {
      "name": "python"
    }
  },
  "cells": [
    {
      "cell_type": "markdown",
      "metadata": {
        "id": "view-in-github",
        "colab_type": "text"
      },
      "source": [
        "<a href=\"https://colab.research.google.com/github/ovokojo/fintequity/blob/main/How%20to%20Analyze%20Stocks%20with%20AI.ipynb\" target=\"_parent\"><img src=\"https://colab.research.google.com/assets/colab-badge.svg\" alt=\"Open In Colab\"/></a>"
      ]
    },
    {
      "cell_type": "markdown",
      "source": [
        "# README\n",
        "This notebook aims to explore possibilities of AI in investment analysis. It uses various APIs to pull data and perform analyses. To ensure a smooth experience, please follow the setup instructions below.\n",
        "\n",
        "**Pre-requisites**\n",
        "\n",
        "Before running this notebook, you will need access to the following APIs:\n",
        "\n",
        "\n",
        "*   **SEC-API** for accessing financial statements and other disclosures from the U.S. Securities and Exchange Commission. Get a free API key at: https://sec-api.io/\n",
        "\n",
        "*   **OpenAI API** for utilizing advanced AI models for data analysis, summaries, and more. Get an API key at: https://platform.openai.com/\n",
        "\n",
        "\n",
        "\n",
        "**Getting Started**\n",
        "\n",
        "Configure API Keys: Store your SEC-API and OpenAI API keys in a secure location. This notebook uses Colab Secrets.\n",
        "\n",
        "Run the notebook: Execute the cells in order, making sure to input your API keys or modify the code as neccessary to access them.\n",
        "\n"
      ],
      "metadata": {
        "id": "oNDFhlWgskxD"
      }
    },
    {
      "cell_type": "code",
      "source": [
        "# !pip install -q sec-api\n",
        "# !pip install openai\n",
        "\n",
        "from google.colab import userdata\n",
        "import openai\n",
        "from openai import OpenAI\n",
        "import requests\n",
        "\n",
        "client = OpenAI(\n",
        "    api_key=userdata.get(\"OAI_KEY\"),\n",
        ")\n",
        "SEC_KEY = userdata.get(\"SEC_KEY\")"
      ],
      "metadata": {
        "id": "8SQR9WcrmrxY"
      },
      "execution_count": 23,
      "outputs": []
    },
    {
      "cell_type": "code",
      "source": [
        "# Query API - Search and filter all 18+ million filings and exhibits published on SEC EDGAR since 1993\n",
        "def getLatest10K(ticker: str):\n",
        "    \"\"\"\n",
        "    Retrieves the most recent Form 10-K filing for a given stock ticker symbol.\n",
        "\n",
        "    Args:\n",
        "    - ticker (str): The stock ticker symbol of the company for which the Form 10-K is requested.\n",
        "\n",
        "    Returns:\n",
        "    - dict: A dictionary containing the JSON response with the latest Form 10-K filing\n",
        "            information if the request is successful (HTTP status code 200).\n",
        "    - int: The HTTP status code of the response if the request is unsuccessful.\n",
        "    \"\"\"\n",
        "\n",
        "    endpoint = f\"https://api.sec-api.io?token={API_KEY}\"\n",
        "    params = {\n",
        "        \"query\": {\n",
        "          \"query_string\": {\n",
        "            \"query\":  f\"ticker:{ticker} AND formType:\\\"10-K\\\"\"\n",
        "          }\n",
        "        },\n",
        "        \"from\": \"0\",\n",
        "        \"size\": \"1\",\n",
        "        \"sort\": [{ \"filedAt\": { \"order\": \"desc\" }}]\n",
        "    }\n",
        "    response = requests.post(endpoint, json=params)\n",
        "\n",
        "    if response.status_code == 200:\n",
        "        return response.json()\n",
        "    else:\n",
        "        print(response.status_code)\n",
        "        return response.status_code\n",
        "\n",
        "# Example\n",
        "# latest10K = getLatest10K('TSLA')"
      ],
      "metadata": {
        "id": "00BRQmXtnjC_"
      },
      "execution_count": 18,
      "outputs": []
    },
    {
      "cell_type": "code",
      "source": [
        "# Extractor API - Extract any text section from 10-Q, 10-K, and 8-K SEC filings.\n",
        "def getLatest10kSection(ticker: str, section: str):\n",
        "    \"\"\"\n",
        "    Retrieves a specified section from the latest 10-K filing of any stock using the SEC Query API & the extractor API\n",
        "\n",
        "    Args:\n",
        "        ticker (str): The stock ticker symbol of the company for which the Form 10-K is requested.\n",
        "        section (str): Specific section of the filing to retrieve (e.g., \"1A\" for the Risk Factors section).\n",
        "        10-K supported section codes: 1, 1A, 1B, 2, 3, 4, 5, 6, 7, 7A, 8, 9, 9A, 9B, 10, 11, 12, 13, 14, 15\n",
        "\n",
        "    Returns:\n",
        "        text or int: The extracted content in JSON format if request is successful; otherwise, the HTTP status code.\n",
        "    \"\"\"\n",
        "\n",
        "    latest10K = getLatest10K(ticker)\n",
        "    url_10k = latest10K['filings'][0]['linkToFilingDetails']\n",
        "\n",
        "    endpoint = \"https://api.sec-api.io/extractor\"\n",
        "\n",
        "    params = {\n",
        "        \"token\": API_KEY,\n",
        "        \"url\": url_10k,\n",
        "        \"item\": section,\n",
        "        \"type\": \"text\"\n",
        "    }\n",
        "\n",
        "    response = requests.get(endpoint, params=params)\n",
        "\n",
        "    if response.status_code == 200:\n",
        "        return response.text\n",
        "    else:\n",
        "        print(f\"Request failed with code: {response.status_code}\")\n",
        "        return response.status_code\n",
        "\n",
        "# Example\n",
        "# getLatest10kSection(\"WDAY\", \"1A\")"
      ],
      "metadata": {
        "id": "Bu2bpYcZrhPm"
      },
      "execution_count": 32,
      "outputs": []
    },
    {
      "cell_type": "code",
      "source": [
        "# Next steps: analyze & summarize section with AI\n",
        "ticker = \"WDAY\"\n",
        "section = \"1A\"\n",
        "data = getLatest10kSection(ticker, section)\n",
        "\n",
        "chat_completion = client.chat.completions.create(\n",
        "    messages=[\n",
        "        {\n",
        "            \"role\": \"user\",\n",
        "            \"content\": f\"Summarize the the key risk factors in section {section} of {ticker} 10-K: {data}\",\n",
        "        }\n",
        "    ],\n",
        "    model=\"gpt-4-turbo-preview\",\n",
        ")\n",
        "\n",
        "response = chat_completion.choices[0].message.content\n",
        "\n",
        "print(response)"
      ],
      "metadata": {
        "id": "At2d8awdhI0T",
        "outputId": "bfc64c95-f7a9-464c-a1e4-ee6fbdab5fe6",
        "colab": {
          "base_uri": "https://localhost:8080/"
        }
      },
      "execution_count": 34,
      "outputs": [
        {
          "output_type": "stream",
          "name": "stdout",
          "text": [
            "Due to the length and complexity of the document provided, I have summarized the key risk factors from section 1A of the WDAY 10-K report into several core thematic areas. These summarized risk factors are designed to provide an overview of the most critical challenges and uncertainties that the company faces, which could potentially impact its business operations, financial condition, and market price of its securities.\n",
            "\n",
            "1. **Information Technology and Infrastructure Risks**: Risks related to compromised IT systems, unauthorized access to customer or user data, service outages, delays in application deployment, and the failure of technical operations infrastructure can materially affect the company's operations and reputation.\n",
            "\n",
            "2. **Regulatory and Privacy Risks**: The company faces substantial risks from privacy concerns, evolving domestic or foreign laws, and regulations regarding data protection and cross-border data transfer. Compliance with these evolving regulations could incur significant costs and impact the adoption of the company's services.\n",
            "\n",
            "3. **Economic and Geopolitical Risk**: Global economic uncertainties and geopolitical instability, including impacts from conflicts like the Russia-Ukraine and Israel-Hamas situations, can adversely affect business operations and financial performance.\n",
            "\n",
            "4. **Human Resource Risks**: Losing key employees or failing to attract, develop, and retain skilled employees could harm the company's competitive edge and operational effectiveness.\n",
            "\n",
            "5. **Competition Risks**: Intense competition in the markets where the company operates could impact its ability to compete effectively, affecting revenues and growth.\n",
            "\n",
            "6. **Partner Reliance Risks**: Dependence on a network of partners for revenue growth introduces risks if these partners fail to perform, potentially impacting sales and distribution of products.\n",
            "\n",
            "7. **International Operation Risks**: Sales and operations outside the United States expose the company to regulatory, economic, and political challenges that could adversely affect business outcomes.\n",
            "\n",
            "8. **Litigation and Intellectual Property Risks**: The company may face litigation for alleged infringement of third-party rights or may struggle to protect its own intellectual property rights, leading to financial and operational consequences.\n",
            "\n",
            "9. **Product Development and Innovation Risks**: Failure to effectively innovate and develop new products or features that meet market expectations could impact the company's competitive position and financial success.\n",
            "\n",
            "10. **Financial Management Risks**: Challenges associated with subscription model dynamics, quarterly results fluctuation, and achieving profitability underline financial management and performance risks.\n",
            "\n",
            "11. **Equity Market Risks**: Volatility in the price of the company's securities and dual-class stock structure can affect investor returns and influence corporate control dynamics.\n",
            "\n",
            "12. **Risk of Debt and Financial Obligations**: Existing and future debt could impose financial and operational constraints, limiting flexibility and potentially impacting the financial condition.\n",
            "\n",
            "13. **Regulatory Compliance and Taxation Risks**: Compliance with changing tax regulations and managing international taxation complexities could result in significant financial exposures and compliance costs.\n",
            "\n",
            "14. **Environmental, Social, and Governance (ESG) Risks**: Failure to meet ESG objectives or adapt to evolving standards and regulations may harm the company's reputation and financial performance.\n",
            "\n",
            "15. **Disaster and Catastrophic Event Risks**: Natural disasters, cybersecurity incidents, and other catastrophic events can disrupt business operations and impair financial results.\n",
            "\n",
            "This summary focuses on the fundamental areas of risk that could materially and adversely affect the business and financial outcomes of the company, as concluded from Section 1A of the WDAY 10-K report. Potential investors and stakeholders should consider these risks carefully before investing or making business decisions related to the company.\n",
            "\n"
          ]
        }
      ]
    }
  ]
}