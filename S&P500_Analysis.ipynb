{
  "nbformat": 4,
  "nbformat_minor": 0,
  "metadata": {
    "colab": {
      "provenance": [],
      "authorship_tag": "ABX9TyNfw+TKodoZui3aOLymSfL/",
      "include_colab_link": true
    },
    "kernelspec": {
      "name": "python3",
      "display_name": "Python 3"
    },
    "language_info": {
      "name": "python"
    }
  },
  "cells": [
    {
      "cell_type": "markdown",
      "metadata": {
        "id": "view-in-github",
        "colab_type": "text"
      },
      "source": [
        "<a href=\"https://colab.research.google.com/github/ovokojo/fintequity/blob/main/S%26P500_Analysis.ipynb\" target=\"_parent\"><img src=\"https://colab.research.google.com/assets/colab-badge.svg\" alt=\"Open In Colab\"/></a>"
      ]
    },
    {
      "cell_type": "code",
      "execution_count": 1,
      "metadata": {
        "colab": {
          "base_uri": "https://localhost:8080/"
        },
        "id": "gekamkNXBpGD",
        "outputId": "f2c67aea-012b-4b82-cea3-e26c2e7dabc9"
      },
      "outputs": [
        {
          "output_type": "stream",
          "name": "stdout",
          "text": [
            "['MMM', 'AOS', 'ABT', 'ABBV', 'ACN', 'ADBE', 'AMD', 'AES', 'AFL', 'A']\n",
            "503 stocks\n",
            "500 stocks after removal\n"
          ]
        }
      ],
      "source": [
        "# !pip install yfinance\n",
        "import yfinance as yf\n",
        "import pandas as pd\n",
        "\n",
        "# Get current tickers for all S&P 500 companies.\n",
        "table=pd.read_html('https://en.wikipedia.org/wiki/List_of_S%26P_500_companies')\n",
        "df = table[0]\n",
        "sp500_tickers = df.Symbol.to_list()\n",
        "\n",
        "# check first 10 tickers\n",
        "print(sp500_tickers[:10])\n",
        "# count tickers\n",
        "print(f\"{len(sp500_tickers)} stocks\")\n",
        "\n",
        "# Remove class A stocks of Alphabet Inc. (GOOGL), Fox Corporation (FOXA), News Corp (NWSA)\n",
        "duplicateTickers = [\"GOOGL\", \"FOXA\", \"NWSA\"]\n",
        "sp500_tickers = [x for x in sp500_tickers if x not in duplicateTickers]\n",
        "\n",
        "# Count tickers again\n",
        "print(f\"{len(sp500_tickers)} stocks after removal\")"
      ]
    }
  ]
}